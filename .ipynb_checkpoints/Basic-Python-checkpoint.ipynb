{
 "cells": [
  {
   "cell_type": "code",
   "execution_count": 1,
   "id": "1cdd13c2-3b50-4351-86fb-02ef6655d450",
   "metadata": {},
   "outputs": [],
   "source": [
    "x=\"Windows\""
   ]
  },
  {
   "cell_type": "code",
   "execution_count": 3,
   "id": "f59ac402-8980-4f12-aa08-41c1e9a568eb",
   "metadata": {},
   "outputs": [
    {
     "name": "stdout",
     "output_type": "stream",
     "text": [
      "WindowsEditör\n"
     ]
    }
   ],
   "source": [
    "y=\"Editör\"\n",
    "print(x+y)"
   ]
  },
  {
   "cell_type": "code",
   "execution_count": null,
   "id": "ed74442c-7b8e-466f-95ee-78373ba40243",
   "metadata": {},
   "outputs": [],
   "source": []
  }
 ],
 "metadata": {
  "kernelspec": {
   "display_name": "Python [conda env:base] *",
   "language": "python",
   "name": "conda-base-py"
  },
  "language_info": {
   "codemirror_mode": {
    "name": "ipython",
    "version": 3
   },
   "file_extension": ".py",
   "mimetype": "text/x-python",
   "name": "python",
   "nbconvert_exporter": "python",
   "pygments_lexer": "ipython3",
   "version": "3.12.7"
  }
 },
 "nbformat": 4,
 "nbformat_minor": 5
}
