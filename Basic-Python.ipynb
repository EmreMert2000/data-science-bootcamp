{
 "cells": [
  {
   "cell_type": "code",
   "execution_count": null,
   "id": "1cdd13c2-3b50-4351-86fb-02ef6655d450",
   "metadata": {},
   "outputs": [],
   "source": []
  }
 ],
 "metadata": {
  "kernelspec": {
   "display_name": "",
   "name": ""
  },
  "language_info": {
   "name": ""
  }
 },
 "nbformat": 4,
 "nbformat_minor": 5
}
